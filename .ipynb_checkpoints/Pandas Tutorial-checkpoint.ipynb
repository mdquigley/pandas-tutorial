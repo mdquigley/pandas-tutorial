{
 "cells": [
  {
   "cell_type": "markdown",
   "id": "611f97f2",
   "metadata": {},
   "source": [
    "## Loading Data Into Pandas"
   ]
  },
  {
   "cell_type": "code",
   "execution_count": 7,
   "id": "7430a569",
   "metadata": {
    "scrolled": true
   },
   "outputs": [
    {
     "name": "stdout",
     "output_type": "stream",
     "text": [
      "   #       Name Type 1  Type 2  HP  Attack  Defense  Sp. Atk  Sp. Def  Speed  \\\n",
      "0  1  Bulbasaur  Grass  Poison  45      49       49       65       65     45   \n",
      "1  2    Ivysaur  Grass  Poison  60      62       63       80       80     60   \n",
      "2  3   Venusaur  Grass  Poison  80      82       83      100      100     80   \n",
      "\n",
      "   Generation  Legendary  \n",
      "0           1      False  \n",
      "1           1      False  \n",
      "2           1      False  \n"
     ]
    }
   ],
   "source": [
    "import pandas as pd\n",
    "\n",
    "df = pd.read_csv('pokemon_data.csv')\n",
    "#df = pd.read_excel('pokemon_data.xlsx')\n",
    "#df = pd.read_csv('pokemon_data.txt', delimiter='\\t')\n",
    "\n",
    "\n",
    "print(df.head(3))"
   ]
  },
  {
   "cell_type": "markdown",
   "id": "f54608cd",
   "metadata": {},
   "source": [
    "## Reading Data in Pandas"
   ]
  },
  {
   "cell_type": "code",
   "execution_count": 8,
   "id": "de31627d",
   "metadata": {},
   "outputs": [
    {
     "name": "stdout",
     "output_type": "stream",
     "text": [
      "Index(['#', 'Name', 'Type 1', 'Type 2', 'HP', 'Attack', 'Defense', 'Sp. Atk',\n",
      "       'Sp. Def', 'Speed', 'Generation', 'Legendary'],\n",
      "      dtype='object')\n"
     ]
    }
   ],
   "source": [
    "## Read Headers\n",
    "df.columns\n",
    "\n",
    "## Read Each Column\n",
    "\n",
    "## Read Each Row\n",
    "\n",
    "## Read a specific location (R, C)"
   ]
  },
  {
   "cell_type": "code",
   "execution_count": null,
   "id": "9496e640",
   "metadata": {},
   "outputs": [],
   "source": []
  }
 ],
 "metadata": {
  "kernelspec": {
   "display_name": "Python 3",
   "language": "python",
   "name": "python3"
  },
  "language_info": {
   "codemirror_mode": {
    "name": "ipython",
    "version": 3
   },
   "file_extension": ".py",
   "mimetype": "text/x-python",
   "name": "python",
   "nbconvert_exporter": "python",
   "pygments_lexer": "ipython3",
   "version": "3.9.5"
  }
 },
 "nbformat": 4,
 "nbformat_minor": 5
}
